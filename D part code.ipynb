{
 "cells": [
  {
   "cell_type": "code",
   "execution_count": 1,
   "metadata": {},
   "outputs": [],
   "source": [
    "import pandas as pd\n",
    "import numpy as np\n",
    "\n",
    "from sklearn.model_selection import train_test_split, cross_validate, RepeatedKFold\n",
    "from sklearn.pipeline import Pipeline\n",
    "from sklearn.preprocessing import StandardScaler\n",
    "from sklearn.linear_model import LinearRegression, RidgeCV, LassoCV\n",
    "from sklearn.metrics import mean_absolute_error, mean_squared_error"
   ]
  },
  {
   "cell_type": "code",
   "execution_count": 2,
   "metadata": {},
   "outputs": [],
   "source": [
    "df = pd.read_csv(\"combined_B_&_C.csv\")"
   ]
  },
  {
   "cell_type": "code",
   "execution_count": 3,
   "metadata": {},
   "outputs": [
    {
     "name": "stdout",
     "output_type": "stream",
     "text": [
      "         date      price  bedrooms  bathrooms  sqft_living  sqft_lot  floors  \\\n",
      "0  2014-05-02   313000.0       3.0       1.50         1340      7912     1.5   \n",
      "1  2014-05-02  2384000.0       5.0       2.50         3650      9050     2.0   \n",
      "2  2014-05-02   342000.0       3.0       2.00         1930     11947     1.0   \n",
      "3  2014-05-02   420000.0       3.0       2.25         2000      8030     1.0   \n",
      "4  2014-05-02   550000.0       4.0       2.50         1940     10500     1.0   \n",
      "\n",
      "   waterfront  view  condition  ...  city_grouped_SeaTac  \\\n",
      "0           0     0          3  ...                False   \n",
      "1           0     4          5  ...                False   \n",
      "2           0     0          4  ...                False   \n",
      "3           0     0          4  ...                False   \n",
      "4           0     0          4  ...                False   \n",
      "\n",
      "   city_grouped_Seattle  city_grouped_Shoreline  city_grouped_Snoqualmie  \\\n",
      "0                 False                    True                    False   \n",
      "1                  True                   False                    False   \n",
      "2                 False                   False                    False   \n",
      "3                 False                   False                    False   \n",
      "4                 False                   False                    False   \n",
      "\n",
      "  city_grouped_Tukwila city_grouped_Vashon city_grouped_Woodinville  \\\n",
      "0                False               False                    False   \n",
      "1                False               False                    False   \n",
      "2                False               False                    False   \n",
      "3                False               False                    False   \n",
      "4                False               False                    False   \n",
      "\n",
      "  knn_avg_price  zipcode_price_tier_Medium  zipcode_price_tier_High  \n",
      "0      312600.0                      False                    False  \n",
      "1     1180800.0                      False                     True  \n",
      "2      360360.0                      False                    False  \n",
      "3      455780.0                       True                    False  \n",
      "4      499120.0                      False                     True  \n",
      "\n",
      "[5 rows x 79 columns]\n"
     ]
    }
   ],
   "source": [
    "print(df.head())"
   ]
  },
  {
   "cell_type": "code",
   "execution_count": 4,
   "metadata": {},
   "outputs": [
    {
     "name": "stdout",
     "output_type": "stream",
     "text": [
      "<class 'pandas.core.frame.DataFrame'>\n",
      "RangeIndex: 9200 entries, 0 to 9199\n",
      "Data columns (total 79 columns):\n",
      " #   Column                         Non-Null Count  Dtype  \n",
      "---  ------                         --------------  -----  \n",
      " 0   date                           9200 non-null   object \n",
      " 1   price                          9200 non-null   float64\n",
      " 2   bedrooms                       9200 non-null   float64\n",
      " 3   bathrooms                      9200 non-null   float64\n",
      " 4   sqft_living                    9200 non-null   int64  \n",
      " 5   sqft_lot                       9200 non-null   int64  \n",
      " 6   floors                         9200 non-null   float64\n",
      " 7   waterfront                     9200 non-null   int64  \n",
      " 8   view                           9200 non-null   int64  \n",
      " 9   condition                      9200 non-null   int64  \n",
      " 10  sqft_above                     9200 non-null   int64  \n",
      " 11  sqft_basement                  9200 non-null   int64  \n",
      " 12  yr_built                       9200 non-null   int64  \n",
      " 13  yr_renovated                   9200 non-null   int64  \n",
      " 14  street                         9200 non-null   object \n",
      " 15  city                           9200 non-null   object \n",
      " 16  statezip                       9200 non-null   object \n",
      " 17  country                        9200 non-null   object \n",
      " 18  log_price                      9200 non-null   float64\n",
      " 19  yr_after_renovated             9200 non-null   int64  \n",
      " 20  yr_after_built                 9200 non-null   int64  \n",
      " 21  price_per_sqft                 9200 non-null   float64\n",
      " 22  basement_present               9200 non-null   int64  \n",
      " 23  if_renovated                   9200 non-null   int64  \n",
      " 24  if_waterfront                  9200 non-null   int64  \n",
      " 25  basement_ratio                 9200 non-null   float64\n",
      " 26  sqft_above_ratio               9200 non-null   float64\n",
      " 27  rooms                          9200 non-null   float64\n",
      " 28  bedrooms_bin                   9196 non-null   object \n",
      " 29  bathrooms_bin                  9196 non-null   object \n",
      " 30  floors_bin                     9200 non-null   object \n",
      " 31  yr_built_bin                   9156 non-null   object \n",
      " 32  yr_renovated_bin               0 non-null      float64\n",
      " 33  log_sqft_living                9200 non-null   float64\n",
      " 34  log_sqft_above                 9200 non-null   float64\n",
      " 35  log_sqft_basement              9200 non-null   float64\n",
      " 36  zipcode                        9200 non-null   int64  \n",
      " 37  city_avg_price                 9200 non-null   float64\n",
      " 38  zipcode_avg_price              9200 non-null   float64\n",
      " 39  city_grouped_Auburn            9200 non-null   bool   \n",
      " 40  city_grouped_Bellevue          9200 non-null   bool   \n",
      " 41  city_grouped_Black Diamond     9200 non-null   bool   \n",
      " 42  city_grouped_Bothell           9200 non-null   bool   \n",
      " 43  city_grouped_Burien            9200 non-null   bool   \n",
      " 44  city_grouped_Carnation         9200 non-null   bool   \n",
      " 45  city_grouped_Clyde Hill        9200 non-null   bool   \n",
      " 46  city_grouped_Covington         9200 non-null   bool   \n",
      " 47  city_grouped_Des Moines        9200 non-null   bool   \n",
      " 48  city_grouped_Duvall            9200 non-null   bool   \n",
      " 49  city_grouped_Enumclaw          9200 non-null   bool   \n",
      " 50  city_grouped_Fall City         9200 non-null   bool   \n",
      " 51  city_grouped_Federal Way       9200 non-null   bool   \n",
      " 52  city_grouped_Issaquah          9200 non-null   bool   \n",
      " 53  city_grouped_Kenmore           9200 non-null   bool   \n",
      " 54  city_grouped_Kent              9200 non-null   bool   \n",
      " 55  city_grouped_Kirkland          9200 non-null   bool   \n",
      " 56  city_grouped_Lake Forest Park  9200 non-null   bool   \n",
      " 57  city_grouped_Maple Valley      9200 non-null   bool   \n",
      " 58  city_grouped_Medina            9200 non-null   bool   \n",
      " 59  city_grouped_Mercer Island     9200 non-null   bool   \n",
      " 60  city_grouped_Newcastle         9200 non-null   bool   \n",
      " 61  city_grouped_Normandy Park     9200 non-null   bool   \n",
      " 62  city_grouped_North Bend        9200 non-null   bool   \n",
      " 63  city_grouped_Other             9200 non-null   bool   \n",
      " 64  city_grouped_Pacific           9200 non-null   bool   \n",
      " 65  city_grouped_Ravensdale        9200 non-null   bool   \n",
      " 66  city_grouped_Redmond           9200 non-null   bool   \n",
      " 67  city_grouped_Renton            9200 non-null   bool   \n",
      " 68  city_grouped_Sammamish         9200 non-null   bool   \n",
      " 69  city_grouped_SeaTac            9200 non-null   bool   \n",
      " 70  city_grouped_Seattle           9200 non-null   bool   \n",
      " 71  city_grouped_Shoreline         9200 non-null   bool   \n",
      " 72  city_grouped_Snoqualmie        9200 non-null   bool   \n",
      " 73  city_grouped_Tukwila           9200 non-null   bool   \n",
      " 74  city_grouped_Vashon            9200 non-null   bool   \n",
      " 75  city_grouped_Woodinville       9200 non-null   bool   \n",
      " 76  knn_avg_price                  9200 non-null   float64\n",
      " 77  zipcode_price_tier_Medium      9200 non-null   bool   \n",
      " 78  zipcode_price_tier_High        9200 non-null   bool   \n",
      "dtypes: bool(39), float64(16), int64(15), object(9)\n",
      "memory usage: 3.1+ MB\n",
      "None\n"
     ]
    }
   ],
   "source": [
    "print(df.info())"
   ]
  },
  {
   "cell_type": "code",
   "execution_count": 5,
   "metadata": {},
   "outputs": [],
   "source": [
    "# Replace infinite values with NaN in the entire DataFrame\n",
    "df.replace([np.inf, -np.inf], np.nan, inplace=True)"
   ]
  },
  {
   "cell_type": "code",
   "execution_count": 6,
   "metadata": {},
   "outputs": [],
   "source": [
    "# 3. Define target and features\n",
    "# We use log_price as the target and remove both 'price' and 'log_price' from the features\n",
    "target_col = 'log_price'\n",
    "df.dropna(subset=[target_col], inplace=True)  # ensure no missing target values"
   ]
  },
  {
   "cell_type": "code",
   "execution_count": 7,
   "metadata": {},
   "outputs": [],
   "source": [
    "# 2. Data Cleaning\n",
    "# Drop non-numeric columns that are not needed for regression\n",
    "cols_to_drop = ['date', 'street', 'city', 'statezip', 'country', 'bedrooms_bin', 'bathrooms_bin', 'yr_built_bin']\n",
    "df.drop(columns=cols_to_drop, errors='ignore', inplace=True)"
   ]
  },
  {
   "cell_type": "code",
   "execution_count": 9,
   "metadata": {},
   "outputs": [],
   "source": [
    "# 3. Definefeatures\n",
    "\n",
    "X = df.drop(columns=['price', 'log_price'], errors='ignore')\n",
    "y = df[target_col]"
   ]
  },
  {
   "cell_type": "code",
   "execution_count": 10,
   "metadata": {},
   "outputs": [],
   "source": [
    "if 'yr_renovated_bin' in X.columns:\n",
    "    X.drop(columns=['yr_renovated_bin'], inplace=True)"
   ]
  },
  {
   "cell_type": "code",
   "execution_count": 11,
   "metadata": {},
   "outputs": [],
   "source": [
    "# One-hot encode the floors_bin column if it exists (since it has values like '1', '2', '3+')\n",
    "if 'floors_bin' in df.columns:\n",
    "    df = pd.get_dummies(df, columns=['floors_bin'], drop_first=True)"
   ]
  },
  {
   "cell_type": "code",
   "execution_count": 12,
   "metadata": {},
   "outputs": [],
   "source": [
    "# Convert boolean columns to integers (0/1)\n",
    "df = df.apply(lambda x: x.astype(int) if x.dtype == 'bool' else x)"
   ]
  },
  {
   "cell_type": "code",
   "execution_count": 15,
   "metadata": {},
   "outputs": [
    {
     "name": "stdout",
     "output_type": "stream",
     "text": [
      "Index([], dtype='object')\n"
     ]
    }
   ],
   "source": [
    "# Optional sanity check\n",
    "print(X.select_dtypes(exclude='number').columns)"
   ]
  },
  {
   "cell_type": "code",
   "execution_count": 14,
   "metadata": {},
   "outputs": [],
   "source": [
    "# Just in case, Ensure X contains only numeric columns (drop any remaining non-numeric features)\n",
    "X = X.select_dtypes(include=[np.number]).copy()"
   ]
  },
  {
   "cell_type": "code",
   "execution_count": 16,
   "metadata": {},
   "outputs": [],
   "source": [
    "# 4. Split the data into training and test sets (80/20 split)\n",
    "X_train, X_test, y_train, y_test = train_test_split(X, y, test_size=0.2, random_state=42)"
   ]
  },
  {
   "cell_type": "code",
   "execution_count": 17,
   "metadata": {},
   "outputs": [],
   "source": [
    "# 5. Setup Cross-Validation and scoring metrics\n",
    "cv = RepeatedKFold(n_splits=5, n_repeats=3, random_state=42)\n",
    "# Using sklearn's built-in scorers for MAE and RMSE.\n",
    "scoring = {\n",
    "    'MAE': 'neg_mean_absolute_error', \n",
    "    'RMSE': 'neg_root_mean_squared_error'\n",
    "}"
   ]
  },
  {
   "cell_type": "code",
   "execution_count": 19,
   "metadata": {},
   "outputs": [],
   "source": [
    "from sklearn.impute import SimpleImputer\n",
    "# 6. Build Pipelines for the three models\n",
    "\n",
    "# Baseline: OLS (Linear Regression)\n",
    "ols_pipeline = Pipeline([\n",
    "    ('imputer', SimpleImputer(strategy='median')),\n",
    "    ('scaler', StandardScaler()),\n",
    "    ('reg', LinearRegression())\n",
    "])\n",
    "\n",
    "# Ridge Regression with built-in cross-validation for alpha tuning\n",
    "ridge_pipeline = Pipeline([\n",
    "    ('imputer', SimpleImputer(strategy='median')),\n",
    "    ('scaler', StandardScaler()),\n",
    "    ('reg', RidgeCV(alphas=[0.01, 0.1, 1, 10, 100], cv=5))\n",
    "])\n",
    "\n",
    "# Lasso Regression with built-in cross-validation for alpha tuning\n",
    "lasso_pipeline = Pipeline([\n",
    "    ('imputer', SimpleImputer(strategy='median')),\n",
    "    ('scaler', StandardScaler()),\n",
    "    ('reg', LassoCV(alphas=[0.01, 0.1, 1, 10, 100], cv=5, random_state=42, max_iter=10000))\n",
    "])"
   ]
  },
  {
   "cell_type": "code",
   "execution_count": 20,
   "metadata": {},
   "outputs": [],
   "source": [
    "# 7. Evaluation function: performs CV and computes test set errors\n",
    "def evaluate_model(pipeline, X_train, y_train, X_test, y_test, scoring, cv):\n",
    "    # Cross-validation on training set\n",
    "    cv_results = cross_validate(pipeline, X_train, y_train, cv=cv, scoring=scoring, return_train_score=True)\n",
    "    \n",
    "    # Fit the pipeline on the full training set\n",
    "    pipeline.fit(X_train, y_train)\n",
    "    # Predict on the test set\n",
    "    y_pred_test = pipeline.predict(X_test)\n",
    "    \n",
    "    # Compute test errors\n",
    "    test_mae = mean_absolute_error(y_test, y_pred_test)\n",
    "    test_rmse = np.sqrt(mean_squared_error(y_test, y_pred_test))\n",
    "    \n",
    "    # Convert negative scores to positive values\n",
    "    train_mae = -np.mean(cv_results['train_MAE'])\n",
    "    train_rmse = -np.mean(cv_results['train_RMSE'])\n",
    "    cv_mae = -np.mean(cv_results['test_MAE'])\n",
    "    cv_rmse = -np.mean(cv_results['test_RMSE'])\n",
    "    \n",
    "    return {\n",
    "        'Train MAE': train_mae,\n",
    "        'Train RMSE': train_rmse,\n",
    "        'CV MAE': cv_mae,\n",
    "        'CV RMSE': cv_rmse,\n",
    "        'Test MAE': test_mae,\n",
    "        'Test RMSE': test_rmse\n",
    "    }"
   ]
  },
  {
   "cell_type": "code",
   "execution_count": 21,
   "metadata": {},
   "outputs": [],
   "source": [
    "# 8. Evaluate each model\n",
    "results_ols   = evaluate_model(ols_pipeline,   X_train, y_train, X_test, y_test, scoring, cv)\n",
    "results_ridge = evaluate_model(ridge_pipeline, X_train, y_train, X_test, y_test, scoring, cv)\n",
    "results_lasso = evaluate_model(lasso_pipeline, X_train, y_train, X_test, y_test, scoring, cv)"
   ]
  },
  {
   "cell_type": "code",
   "execution_count": 25,
   "metadata": {},
   "outputs": [
    {
     "name": "stdout",
     "output_type": "stream",
     "text": [
      "Model Evaluation Results:\n",
      "    Model  Train MAE    CV MAE  Test MAE  Train RMSE   CV RMSE  Test RMSE\n",
      "0    OLS   0.159973  0.164084  0.172419    0.238016  0.361477   0.259211\n",
      "1  Ridge   0.160866  0.164578  0.172815    0.238457  0.357001   0.258614\n",
      "2  Lasso   0.209395  0.213556  0.233379    0.291195  0.420187   0.306902\n"
     ]
    }
   ],
   "source": [
    "# 9. Compile results into a summary table\n",
    "results_df = pd.DataFrame({\n",
    "    'Model': ['OLS', 'Ridge', 'Lasso'],\n",
    "    'Train MAE': [results_ols['Train MAE'], results_ridge['Train MAE'], results_lasso['Train MAE']],\n",
    "    'CV MAE': [results_ols['CV MAE'], results_ridge['CV MAE'], results_lasso['CV MAE']],\n",
    "    'Test MAE': [results_ols['Test MAE'], results_ridge['Test MAE'], results_lasso['Test MAE']],\n",
    "    'Train RMSE': [results_ols['Train RMSE'], results_ridge['Train RMSE'], results_lasso['Train RMSE']],\n",
    "    'CV RMSE': [results_ols['CV RMSE'], results_ridge['CV RMSE'], results_lasso['CV RMSE']],\n",
    "    'Test RMSE': [results_ols['Test RMSE'], results_ridge['Test RMSE'], results_lasso['Test RMSE']]\n",
    "})\n",
    "\n",
    "print(\"Model Evaluation Results:\\n\", results_df)"
   ]
  },
  {
   "cell_type": "code",
   "execution_count": 26,
   "metadata": {},
   "outputs": [
    {
     "name": "stdout",
     "output_type": "stream",
     "text": [
      "Evaluation results saved to 'linear_model_evaluation.csv'\n"
     ]
    }
   ],
   "source": [
    "# 10. Save the evaluation table to a CSV file\n",
    "results_df.to_csv('linear_model_evaluation.csv', index=False)\n",
    "print(\"Evaluation results saved to 'linear_model_evaluation.csv'\")"
   ]
  },
  {
   "cell_type": "code",
   "execution_count": 27,
   "metadata": {},
   "outputs": [
    {
     "name": "stdout",
     "output_type": "stream",
     "text": [
      "Detailed Model Evaluation Results:\n",
      "OLS Results:\n",
      "  Train MAE: 0.1600\n",
      "  Train RMSE: 0.2380\n",
      "  CV MAE: 0.1641\n",
      "  CV RMSE: 0.3615\n",
      "  Test MAE: 0.1724\n",
      "  Test RMSE: 0.2592\n",
      "  Test R^2: 0.7624\n",
      "\n",
      "Ridge Results:\n",
      "  Train MAE: 0.1609\n",
      "  Train RMSE: 0.2385\n",
      "  CV MAE: 0.1646\n",
      "  CV RMSE: 0.3570\n",
      "  Test MAE: 0.1728\n",
      "  Test RMSE: 0.2586\n",
      "  Test R^2: 0.7635\n",
      "\n",
      "Lasso Results:\n",
      "  Train MAE: 0.2094\n",
      "  Train RMSE: 0.2912\n",
      "  CV MAE: 0.2136\n",
      "  CV RMSE: 0.4202\n",
      "  Test MAE: 0.2334\n",
      "  Test RMSE: 0.3069\n",
      "  Test R^2: 0.6669\n"
     ]
    }
   ],
   "source": [
    "from sklearn.metrics import r2_score\n",
    "\n",
    "# Predict on the test set for each model using the already fitted pipelines\n",
    "y_pred_ols   = ols_pipeline.predict(X_test)\n",
    "y_pred_ridge = ridge_pipeline.predict(X_test)\n",
    "y_pred_lasso = lasso_pipeline.predict(X_test)\n",
    "\n",
    "# Calculate R^2 score for each model\n",
    "r2_ols   = r2_score(y_test, y_pred_ols)\n",
    "r2_ridge = r2_score(y_test, y_pred_ridge)\n",
    "r2_lasso = r2_score(y_test, y_pred_lasso)\n",
    "\n",
    "# Print the previously calculated evaluation metrics along with the R^2 score\n",
    "print(\"Detailed Model Evaluation Results:\")\n",
    "print(\"OLS Results:\")\n",
    "print(f\"  Train MAE: {results_ols['Train MAE']:.4f}\")\n",
    "print(f\"  Train RMSE: {results_ols['Train RMSE']:.4f}\")\n",
    "print(f\"  CV MAE: {results_ols['CV MAE']:.4f}\")\n",
    "print(f\"  CV RMSE: {results_ols['CV RMSE']:.4f}\")\n",
    "print(f\"  Test MAE: {results_ols['Test MAE']:.4f}\")\n",
    "print(f\"  Test RMSE: {results_ols['Test RMSE']:.4f}\")\n",
    "print(f\"  Test R^2: {r2_ols:.4f}\\n\")\n",
    "\n",
    "print(\"Ridge Results:\")\n",
    "print(f\"  Train MAE: {results_ridge['Train MAE']:.4f}\")\n",
    "print(f\"  Train RMSE: {results_ridge['Train RMSE']:.4f}\")\n",
    "print(f\"  CV MAE: {results_ridge['CV MAE']:.4f}\")\n",
    "print(f\"  CV RMSE: {results_ridge['CV RMSE']:.4f}\")\n",
    "print(f\"  Test MAE: {results_ridge['Test MAE']:.4f}\")\n",
    "print(f\"  Test RMSE: {results_ridge['Test RMSE']:.4f}\")\n",
    "print(f\"  Test R^2: {r2_ridge:.4f}\\n\")\n",
    "\n",
    "print(\"Lasso Results:\")\n",
    "print(f\"  Train MAE: {results_lasso['Train MAE']:.4f}\")\n",
    "print(f\"  Train RMSE: {results_lasso['Train RMSE']:.4f}\")\n",
    "print(f\"  CV MAE: {results_lasso['CV MAE']:.4f}\")\n",
    "print(f\"  CV RMSE: {results_lasso['CV RMSE']:.4f}\")\n",
    "print(f\"  Test MAE: {results_lasso['Test MAE']:.4f}\")\n",
    "print(f\"  Test RMSE: {results_lasso['Test RMSE']:.4f}\")\n",
    "print(f\"  Test R^2: {r2_lasso:.4f}\")\n"
   ]
  },
  {
   "cell_type": "markdown",
   "metadata": {},
   "source": [
    "OLS better"
   ]
  },
  {
   "cell_type": "code",
   "execution_count": 30,
   "metadata": {},
   "outputs": [
    {
     "name": "stdout",
     "output_type": "stream",
     "text": [
      "<class 'pandas.core.frame.DataFrame'>\n",
      "Index: 9102 entries, 0 to 9199\n",
      "Data columns (total 72 columns):\n",
      " #   Column                         Non-Null Count  Dtype  \n",
      "---  ------                         --------------  -----  \n",
      " 0   price                          9102 non-null   float64\n",
      " 1   bedrooms                       9102 non-null   float64\n",
      " 2   bathrooms                      9102 non-null   float64\n",
      " 3   sqft_living                    9102 non-null   int64  \n",
      " 4   sqft_lot                       9102 non-null   int64  \n",
      " 5   floors                         9102 non-null   float64\n",
      " 6   waterfront                     9102 non-null   int64  \n",
      " 7   view                           9102 non-null   int64  \n",
      " 8   condition                      9102 non-null   int64  \n",
      " 9   sqft_above                     9102 non-null   int64  \n",
      " 10  sqft_basement                  9102 non-null   int64  \n",
      " 11  yr_built                       9102 non-null   int64  \n",
      " 12  yr_renovated                   9102 non-null   int64  \n",
      " 13  log_price                      9102 non-null   float64\n",
      " 14  yr_after_renovated             9102 non-null   int64  \n",
      " 15  yr_after_built                 9102 non-null   int64  \n",
      " 16  price_per_sqft                 9102 non-null   float64\n",
      " 17  basement_present               9102 non-null   int64  \n",
      " 18  if_renovated                   9102 non-null   int64  \n",
      " 19  if_waterfront                  9102 non-null   int64  \n",
      " 20  basement_ratio                 9102 non-null   float64\n",
      " 21  sqft_above_ratio               9102 non-null   float64\n",
      " 22  rooms                          9102 non-null   float64\n",
      " 23  yr_renovated_bin               0 non-null      float64\n",
      " 24  log_sqft_living                9102 non-null   float64\n",
      " 25  log_sqft_above                 9102 non-null   float64\n",
      " 26  log_sqft_basement              9102 non-null   float64\n",
      " 27  zipcode                        9102 non-null   int64  \n",
      " 28  city_avg_price                 9102 non-null   float64\n",
      " 29  zipcode_avg_price              9102 non-null   float64\n",
      " 30  city_grouped_Auburn            9102 non-null   int64  \n",
      " 31  city_grouped_Bellevue          9102 non-null   int64  \n",
      " 32  city_grouped_Black Diamond     9102 non-null   int64  \n",
      " 33  city_grouped_Bothell           9102 non-null   int64  \n",
      " 34  city_grouped_Burien            9102 non-null   int64  \n",
      " 35  city_grouped_Carnation         9102 non-null   int64  \n",
      " 36  city_grouped_Clyde Hill        9102 non-null   int64  \n",
      " 37  city_grouped_Covington         9102 non-null   int64  \n",
      " 38  city_grouped_Des Moines        9102 non-null   int64  \n",
      " 39  city_grouped_Duvall            9102 non-null   int64  \n",
      " 40  city_grouped_Enumclaw          9102 non-null   int64  \n",
      " 41  city_grouped_Fall City         9102 non-null   int64  \n",
      " 42  city_grouped_Federal Way       9102 non-null   int64  \n",
      " 43  city_grouped_Issaquah          9102 non-null   int64  \n",
      " 44  city_grouped_Kenmore           9102 non-null   int64  \n",
      " 45  city_grouped_Kent              9102 non-null   int64  \n",
      " 46  city_grouped_Kirkland          9102 non-null   int64  \n",
      " 47  city_grouped_Lake Forest Park  9102 non-null   int64  \n",
      " 48  city_grouped_Maple Valley      9102 non-null   int64  \n",
      " 49  city_grouped_Medina            9102 non-null   int64  \n",
      " 50  city_grouped_Mercer Island     9102 non-null   int64  \n",
      " 51  city_grouped_Newcastle         9102 non-null   int64  \n",
      " 52  city_grouped_Normandy Park     9102 non-null   int64  \n",
      " 53  city_grouped_North Bend        9102 non-null   int64  \n",
      " 54  city_grouped_Other             9102 non-null   int64  \n",
      " 55  city_grouped_Pacific           9102 non-null   int64  \n",
      " 56  city_grouped_Ravensdale        9102 non-null   int64  \n",
      " 57  city_grouped_Redmond           9102 non-null   int64  \n",
      " 58  city_grouped_Renton            9102 non-null   int64  \n",
      " 59  city_grouped_Sammamish         9102 non-null   int64  \n",
      " 60  city_grouped_SeaTac            9102 non-null   int64  \n",
      " 61  city_grouped_Seattle           9102 non-null   int64  \n",
      " 62  city_grouped_Shoreline         9102 non-null   int64  \n",
      " 63  city_grouped_Snoqualmie        9102 non-null   int64  \n",
      " 64  city_grouped_Tukwila           9102 non-null   int64  \n",
      " 65  city_grouped_Vashon            9102 non-null   int64  \n",
      " 66  city_grouped_Woodinville       9102 non-null   int64  \n",
      " 67  knn_avg_price                  9102 non-null   float64\n",
      " 68  zipcode_price_tier_Medium      9102 non-null   int64  \n",
      " 69  zipcode_price_tier_High        9102 non-null   int64  \n",
      " 70  floors_bin_2                   9102 non-null   int64  \n",
      " 71  floors_bin_3+                  9102 non-null   int64  \n",
      "dtypes: float64(16), int64(56)\n",
      "memory usage: 5.1 MB\n",
      "None\n"
     ]
    }
   ],
   "source": [
    "print(df.info())"
   ]
  }
 ],
 "metadata": {
  "kernelspec": {
   "display_name": "Python 3",
   "language": "python",
   "name": "python3"
  },
  "language_info": {
   "codemirror_mode": {
    "name": "ipython",
    "version": 3
   },
   "file_extension": ".py",
   "mimetype": "text/x-python",
   "name": "python",
   "nbconvert_exporter": "python",
   "pygments_lexer": "ipython3",
   "version": "3.13.1"
  }
 },
 "nbformat": 4,
 "nbformat_minor": 2
}
