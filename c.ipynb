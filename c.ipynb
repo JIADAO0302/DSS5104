{
 "cells": [
  {
   "cell_type": "code",
   "execution_count": 3,
   "metadata": {},
   "outputs": [],
   "source": [
    "import pandas as pd\n",
    "from sklearn.neighbors import NearestNeighbors\n",
    "from sklearn.preprocessing import StandardScaler\n",
    "\n",
    "# 读取数据\n",
    "df = pd.read_csv(\"./cleaned_house_dataset.csv\")\n",
    "\n",
    "### 1. 拆分 statezip 为 state 和 zipcode\n",
    "df[['state', 'zipcode']] = df['statezip'].str.extract(r'([A-Z]+)\\s+(\\d+)', expand=True)\n",
    "df['zipcode'] = df['zipcode'].astype(str)\n",
    "\n",
    "### 2. 构造 city / zipcode 的 target encoding 特征\n",
    "df['city_avg_price'] = df.groupby('city')['price'].transform('mean')\n",
    "df['zipcode_avg_price'] = df.groupby('zipcode')['price'].transform('mean')\n",
    "\n",
    "### 3. 合并稀有城市为 'Other'\n",
    "city_counts = df['city'].value_counts()\n",
    "rare_cities = city_counts[city_counts < 10].index\n",
    "df['city_grouped'] = df['city'].apply(lambda x: 'Other' if x in rare_cities else x)\n",
    "\n",
    "### 4. One-hot 编码城市和州\n",
    "df = pd.get_dummies(df, columns=['city_grouped', 'state'], drop_first=True)\n",
    "\n",
    "### 5. 构造 KNN 相似房价特征\n",
    "# 选取代表相似性的特征\n",
    "knn_features = ['sqft_living', 'bedrooms', 'bathrooms', 'zipcode_avg_price']\n",
    "knn_data = df[knn_features].copy()\n",
    "\n",
    "# 标准化\n",
    "scaler = StandardScaler()\n",
    "knn_data_scaled = scaler.fit_transform(knn_data)\n",
    "\n",
    "# 建立 KNN 模型（寻找每个房子的 5 个最相似邻居，排除自身）\n",
    "knn = NearestNeighbors(n_neighbors=6, algorithm='auto').fit(knn_data_scaled)\n",
    "distances, indices = knn.kneighbors(knn_data_scaled)\n",
    "\n",
    "# 计算 KNN 平均价格（排除自己）\n",
    "knn_avg_prices = []\n",
    "for i, neighbor_idxs in enumerate(indices):\n",
    "    neighbor_prices = df.iloc[neighbor_idxs[1:]]['price']  # 排除自己\n",
    "    knn_avg_prices.append(neighbor_prices.mean())\n",
    "df['knn_avg_price'] = knn_avg_prices\n",
    "\n",
    "### 6. 将 zipcode_avg_price 分为高/中/低三档\n",
    "df['zipcode_price_tier'] = pd.qcut(df['zipcode_avg_price'], q=3, labels=['Low', 'Medium', 'High'])\n",
    "\n",
    "# One-hot 编码 price tier\n",
    "df = pd.get_dummies(df, columns=['zipcode_price_tier'], drop_first=True)\n",
    "\n",
    "\n",
    "\n",
    "### 7. 保存结果\n",
    "df.to_csv(\"./house_dataset_with_location_features.csv\", index=False)\n"
   ]
  }
 ],
 "metadata": {
  "kernelspec": {
   "display_name": "Python 3",
   "language": "python",
   "name": "python3"
  },
  "language_info": {
   "codemirror_mode": {
    "name": "ipython",
    "version": 3
   },
   "file_extension": ".py",
   "mimetype": "text/x-python",
   "name": "python",
   "nbconvert_exporter": "python",
   "pygments_lexer": "ipython3",
   "version": "3.12.5"
  }
 },
 "nbformat": 4,
 "nbformat_minor": 2
}
