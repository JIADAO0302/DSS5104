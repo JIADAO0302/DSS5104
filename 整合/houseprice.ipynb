{
 "cells": [
  {
   "cell_type": "code",
   "execution_count": null,
   "metadata": {},
   "outputs": [],
   "source": []
  },
  {
   "cell_type": "code",
   "execution_count": 1,
   "metadata": {},
   "outputs": [
    {
     "ename": "ModuleNotFoundError",
     "evalue": "No module named 'pandas'",
     "output_type": "error",
     "traceback": [
      "\u001b[31m---------------------------------------------------------------------------\u001b[39m",
      "\u001b[31mModuleNotFoundError\u001b[39m                       Traceback (most recent call last)",
      "\u001b[36mCell\u001b[39m\u001b[36m \u001b[39m\u001b[32mIn[1]\u001b[39m\u001b[32m, line 1\u001b[39m\n\u001b[32m----> \u001b[39m\u001b[32m1\u001b[39m \u001b[38;5;28;01mimport\u001b[39;00m\u001b[38;5;250m \u001b[39m\u001b[34;01mpandas\u001b[39;00m\u001b[38;5;250m \u001b[39m\u001b[38;5;28;01mas\u001b[39;00m\u001b[38;5;250m \u001b[39m\u001b[34;01mpd\u001b[39;00m\n\u001b[32m      2\u001b[39m \u001b[38;5;28;01mimport\u001b[39;00m\u001b[38;5;250m \u001b[39m\u001b[34;01mnumpy\u001b[39;00m\u001b[38;5;250m \u001b[39m\u001b[38;5;28;01mas\u001b[39;00m\u001b[38;5;250m \u001b[39m\u001b[34;01mnp\u001b[39;00m\n\u001b[32m      3\u001b[39m \u001b[38;5;28;01mimport\u001b[39;00m\u001b[38;5;250m \u001b[39m\u001b[34;01mmatplotlib\u001b[39;00m\u001b[34;01m.\u001b[39;00m\u001b[34;01mpyplot\u001b[39;00m\u001b[38;5;250m \u001b[39m\u001b[38;5;28;01mas\u001b[39;00m\u001b[38;5;250m \u001b[39m\u001b[34;01mplt\u001b[39;00m\n",
      "\u001b[31mModuleNotFoundError\u001b[39m: No module named 'pandas'"
     ]
    }
   ],
   "source": [
    "import pandas as pd\n",
    "import numpy as np\n",
    "import matplotlib.pyplot as plt\n",
    "import seaborn as sns\n",
    "\n",
    "# 设置绘图风格\n",
    "sns.set(style=\"whitegrid\", palette=\"pastel\")\n",
    "\n",
    "# 读取数据\n",
    "df = pd.read_csv(\"house_dataset.csv\")\n",
    "\n",
    "# 数据清洗步骤\n",
    "df_clean = df.copy()\n",
    "\n",
    "# 1. 将 date 转换为 datetime 类型\n",
    "df_clean[\"date\"] = pd.to_datetime(df_clean[\"date\"])\n",
    "\n",
    "# 2. yr_renovated 为 0 表示未翻新，替换为 NaN\n",
    "df_clean[\"yr_renovated\"] = df_clean[\"yr_renovated\"].replace(0, np.nan)\n",
    "\n",
    "# 3. 新增是否翻新列（0=否，1=是）\n",
    "df_clean[\"renovated\"] = df_clean[\"yr_renovated\"].notna().astype(int)\n",
    "\n",
    "# 4. 移除卧室数量异常值（>10）\n",
    "df_clean = df_clean[df_clean[\"bedrooms\"] <= 10]\n",
    "\n",
    "# 5. 移除房价为 0 的数据\n",
    "df_clean = df_clean[df_clean[\"price\"] > 0]\n",
    "\n",
    "# 可视化部分\n",
    "fig, axes = plt.subplots(2, 2, figsize=(16, 12))\n",
    "\n",
    "# 1. 房价分布图\n",
    "sns.histplot(df_clean[\"price\"], bins=50, kde=True, ax=axes[0, 0])\n",
    "axes[0, 0].set_title(\"House Price Distribution\")\n",
    "\n",
    "# 2. 房屋面积 vs 房价 散点图\n",
    "sns.scatterplot(data=df_clean, x=\"sqft_living\", y=\"price\", alpha=0.3, ax=axes[0, 1])\n",
    "axes[0, 1].set_title(\"Price vs. Living Area (sqft)\")\n",
    "\n",
    "# 3. 各城市房价箱型图（Top 10 城市）\n",
    "top_cities = df_clean[\"city\"].value_counts().nlargest(10).index\n",
    "sns.boxplot(data=df_clean[df_clean[\"city\"].isin(top_cities)], x=\"city\", y=\"price\", ax=axes[1, 0])\n",
    "axes[1, 0].tick_params(axis='x', rotation=45)\n",
    "axes[1, 0].set_title(\"House Prices by City (Top 10)\")\n",
    "\n",
    "# 4. 特征相关性热图\n",
    "numeric_cols = df_clean.select_dtypes(include=[\"int64\", \"float64\"]).drop(columns=[\"price\"]).columns\n",
    "corr_matrix = df_clean[[\"price\"] + list(numeric_cols)].corr()\n",
    "sns.heatmap(corr_matrix, annot=True, fmt=\".2f\", cmap=\"coolwarm\", ax=axes[1, 1])\n",
    "axes[1, 1].set_title(\"Correlation Heatmap\")\n",
    "\n",
    "plt.tight_layout()\n",
    "plt.show()"
   ]
  },
  {
   "cell_type": "code",
   "execution_count": null,
   "metadata": {},
   "outputs": [],
   "source": [
    "# 翻新 vs 未翻新的房价对比\n",
    "plt.figure(figsize=(8, 6))\n",
    "sns.boxplot(data=df_clean, x=\"renovated\", y=\"price\")\n",
    "plt.xticks([0, 1], [\"Not Renovated\", \"Renovated\"])\n",
    "plt.title(\"Price Comparison: Renovated vs Not Renovated\")\n",
    "plt.ylabel(\"Price\")\n",
    "plt.xlabel(\"Renovation Status\")\n",
    "plt.tight_layout()\n",
    "plt.show()\n",
    "\n",
    "# 房龄 vs 房价\n",
    "# 创建房龄列（基于建造年份）\n",
    "df_clean[\"house_age\"] = df_clean[\"date\"].dt.year - df_clean[\"yr_built\"]\n",
    "plt.figure(figsize=(8, 6))\n",
    "sns.scatterplot(data=df_clean, x=\"house_age\", y=\"price\", alpha=0.4)\n",
    "plt.title(\"House Age vs Price\")\n",
    "plt.xlabel(\"House Age (years)\")\n",
    "plt.ylabel(\"Price\")\n",
    "plt.tight_layout()\n",
    "plt.show()\n",
    "\n",
    "# 楼层数量 vs 房价\n",
    "plt.figure(figsize=(8, 6))\n",
    "sns.boxplot(data=df_clean, x=\"floors\", y=\"price\")\n",
    "plt.title(\"Price by Number of Floors\")\n",
    "plt.xlabel(\"Number of Floors\")\n",
    "plt.ylabel(\"Price\")\n",
    "plt.tight_layout()\n",
    "plt.show()"
   ]
  },
  {
   "cell_type": "code",
   "execution_count": null,
   "metadata": {},
   "outputs": [],
   "source": [
    "#房龄 vs 房价\n",
    "plt.figure(figsize=(8, 6))\n",
    "sns.regplot(data=df_clean, x=\"house_age\", y=\"price\", scatter_kws={'alpha':0.3}, line_kws={\"color\": \"red\"})\n",
    "plt.title(\"House Age vs Price (with Trend Line)\")\n",
    "plt.xlabel(\"House Age (years)\")\n",
    "plt.ylabel(\"Price\")\n",
    "plt.tight_layout()\n",
    "plt.show()"
   ]
  },
  {
   "cell_type": "code",
   "execution_count": null,
   "metadata": {},
   "outputs": [],
   "source": [
    "# 楼层数 vs 房价\n",
    "plt.figure(figsize=(8, 6))\n",
    "sns.pointplot(data=df_clean, x=\"floors\", y=\"price\", errorbar=\"sd\", capsize=0.2)\n",
    "plt.title(\"Average Price by Number of Floors\")\n",
    "plt.xlabel(\"Number of Floors\")\n",
    "plt.ylabel(\"Average Price ± Std\")\n",
    "plt.tight_layout()\n",
    "plt.show()"
   ]
  }
 ],
 "metadata": {
  "kernelspec": {
   "display_name": "Python 3",
   "language": "python",
   "name": "python3"
  },
  "language_info": {
   "codemirror_mode": {
    "name": "ipython",
    "version": 3
   },
   "file_extension": ".py",
   "mimetype": "text/x-python",
   "name": "python",
   "nbconvert_exporter": "python",
   "pygments_lexer": "ipython3",
   "version": "3.13.2"
  }
 },
 "nbformat": 4,
 "nbformat_minor": 2
}
